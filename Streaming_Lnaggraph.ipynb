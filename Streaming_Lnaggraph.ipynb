{
 "cells": [
  {
   "cell_type": "code",
   "execution_count": 1,
   "id": "49e7a009",
   "metadata": {},
   "outputs": [],
   "source": [
    "from typing_extensions import TypedDict\n",
    "from typing import Annotated\n",
    "from langgraph.graph.message import add_messages"
   ]
  },
  {
   "cell_type": "code",
   "execution_count": 2,
   "id": "03f1bb65",
   "metadata": {},
   "outputs": [],
   "source": [
    "class State(TypedDict):\n",
    "    messages:Annotated[list, add_messages]"
   ]
  },
  {
   "cell_type": "code",
   "execution_count": 4,
   "id": "ddbc8444",
   "metadata": {},
   "outputs": [
    {
     "data": {
      "text/plain": [
       "True"
      ]
     },
     "execution_count": 4,
     "metadata": {},
     "output_type": "execute_result"
    }
   ],
   "source": [
    "import os\n",
    "from dotenv import load_dotenv\n",
    "load_dotenv()"
   ]
  },
  {
   "cell_type": "code",
   "execution_count": 7,
   "id": "6c33e230",
   "metadata": {},
   "outputs": [],
   "source": [
    "os.environ[\"OPENAI_API_KEY\"] = os.getenv(\"OPENAI_API_KEY\")\n",
    "os.environ[\"GROQ_API_KEY\"] = os.getenv(\"GROQ_API_KEY\")\n"
   ]
  },
  {
   "cell_type": "code",
   "execution_count": 8,
   "id": "f064fdcb",
   "metadata": {},
   "outputs": [],
   "source": [
    "from langchain_openai import ChatOpenAI\n",
    "\n",
    "llm = ChatOpenAI(model = \"gpt-4o\", temperature =0)\n"
   ]
  },
  {
   "cell_type": "code",
   "execution_count": 10,
   "id": "6854f783",
   "metadata": {},
   "outputs": [],
   "source": [
    "def superbot(state:State):\n",
    "    return{\"messages\":[llm.invoke(state[\"messages\"])]}"
   ]
  },
  {
   "cell_type": "code",
   "execution_count": 12,
   "id": "772ff348",
   "metadata": {},
   "outputs": [],
   "source": [
    "from langgraph.checkpoint.memory import MemorySaver\n",
    "memory = MemorySaver()\n"
   ]
  },
  {
   "cell_type": "code",
   "execution_count": 13,
   "id": "34dcdbe8",
   "metadata": {},
   "outputs": [],
   "source": [
    "from langgraph.graph import StateGraph, START, END\n",
    "\n",
    "builder = StateGraph(State)\n",
    "\n",
    "builder.add_node(\"superbot\", superbot)\n",
    "\n",
    "builder.add_edge(START, \"superbot\")\n",
    "builder.add_edge(\"superbot\", END)\n",
    "\n",
    "graph = builder.compile(checkpointer = memory)"
   ]
  },
  {
   "cell_type": "code",
   "execution_count": 14,
   "id": "38c5b5c3",
   "metadata": {},
   "outputs": [],
   "source": [
    "config = {\n",
    "    \"configurable\":{\"thread_id\": \"1\"}\n",
    "}"
   ]
  },
  {
   "cell_type": "code",
   "execution_count": 17,
   "id": "abb11e7f",
   "metadata": {},
   "outputs": [
    {
     "name": "stdout",
     "output_type": "stream",
     "text": [
      "================================\u001b[1m Human Message \u001b[0m=================================\n",
      "\n",
      "What is 10 plus 10?\n",
      "==================================\u001b[1m Ai Message \u001b[0m==================================\n",
      "\n",
      "10 plus 10 equals 20.\n"
     ]
    }
   ],
   "source": [
    "from langchain_core.messages import HumanMessage\n",
    "messages = graph.invoke({\"messages\":HumanMessage(content = \"What is 10 plus 10?\")}, config = config)\n",
    "\n",
    "for m in messages[\"messages\"]:\n",
    "    m.pretty_print()"
   ]
  },
  {
   "cell_type": "markdown",
   "id": "dc5a834c",
   "metadata": {},
   "source": [
    "Streaming"
   ]
  },
  {
   "cell_type": "code",
   "execution_count": 21,
   "id": "5143aa82",
   "metadata": {},
   "outputs": [
    {
     "name": "stdout",
     "output_type": "stream",
     "text": [
      "{'superbot': {'messages': [AIMessage(content='10 plus 10 equals 20.', additional_kwargs={'refusal': None}, response_metadata={'token_usage': {'completion_tokens': 8, 'prompt_tokens': 63, 'total_tokens': 71, 'completion_tokens_details': {'accepted_prediction_tokens': 0, 'audio_tokens': 0, 'reasoning_tokens': 0, 'rejected_prediction_tokens': 0}, 'prompt_tokens_details': {'audio_tokens': 0, 'cached_tokens': 0}}, 'model_name': 'gpt-4o-2024-08-06', 'system_fingerprint': 'fp_f33640a400', 'id': 'chatcmpl-CKSVerCYISwl0fzWODB5pXsrXEkOM', 'service_tier': 'default', 'finish_reason': 'stop', 'logprobs': None}, id='run--8cf953a5-a6e6-41ae-8c77-55b0a6d01e14-0', usage_metadata={'input_tokens': 63, 'output_tokens': 8, 'total_tokens': 71, 'input_token_details': {'audio': 0, 'cache_read': 0}, 'output_token_details': {'audio': 0, 'reasoning': 0}})]}}\n"
     ]
    }
   ],
   "source": [
    "for chunks in graph.stream({\"messages\":HumanMessage(content = \"What is 10 plus 10?\")}, config = config, stream_mode = \"updates\"):\n",
    "     print(chunks)"
   ]
  },
  {
   "cell_type": "code",
   "execution_count": 22,
   "id": "411dfa20",
   "metadata": {},
   "outputs": [
    {
     "name": "stdout",
     "output_type": "stream",
     "text": [
      "{'messages': [HumanMessage(content='What is 10 plus 10?', additional_kwargs={}, response_metadata={}, id='50e7122b-8b59-4b1b-a8e8-91ac0d95df51'), AIMessage(content='10 plus 10 equals 20.', additional_kwargs={'refusal': None}, response_metadata={'token_usage': {'completion_tokens': 8, 'prompt_tokens': 15, 'total_tokens': 23, 'completion_tokens_details': {'accepted_prediction_tokens': 0, 'audio_tokens': 0, 'reasoning_tokens': 0, 'rejected_prediction_tokens': 0}, 'prompt_tokens_details': {'audio_tokens': 0, 'cached_tokens': 0}}, 'model_name': 'gpt-4o-2024-08-06', 'system_fingerprint': 'fp_f33640a400', 'id': 'chatcmpl-CKSSNeCNxkuMSztIyEzfnltVJNmER', 'service_tier': 'default', 'finish_reason': 'stop', 'logprobs': None}, id='run--7654c09a-a463-47e1-b563-c3e776feae94-0', usage_metadata={'input_tokens': 15, 'output_tokens': 8, 'total_tokens': 23, 'input_token_details': {'audio': 0, 'cache_read': 0}, 'output_token_details': {'audio': 0, 'reasoning': 0}}), HumanMessage(content='What is 10 plus 10?', additional_kwargs={}, response_metadata={}, id='b45f3638-02ac-435d-906e-0f17b3a20263'), AIMessage(content='10 plus 10 equals 20.', additional_kwargs={'refusal': None}, response_metadata={'token_usage': {'completion_tokens': 8, 'prompt_tokens': 39, 'total_tokens': 47, 'completion_tokens_details': {'accepted_prediction_tokens': 0, 'audio_tokens': 0, 'reasoning_tokens': 0, 'rejected_prediction_tokens': 0}, 'prompt_tokens_details': {'audio_tokens': 0, 'cached_tokens': 0}}, 'model_name': 'gpt-4o-2024-08-06', 'system_fingerprint': 'fp_f33640a400', 'id': 'chatcmpl-CKSVY2x6Ppo0V2kbl9f48ZnO7CAks', 'service_tier': 'default', 'finish_reason': 'stop', 'logprobs': None}, id='run--8ca2c50e-d0ad-4361-a261-a3184e80e179-0', usage_metadata={'input_tokens': 39, 'output_tokens': 8, 'total_tokens': 47, 'input_token_details': {'audio': 0, 'cache_read': 0}, 'output_token_details': {'audio': 0, 'reasoning': 0}}), HumanMessage(content='What is 10 plus 10?', additional_kwargs={}, response_metadata={}, id='d674c6cf-d16a-4be6-836a-64c105b64035'), AIMessage(content='10 plus 10 equals 20.', additional_kwargs={'refusal': None}, response_metadata={'token_usage': {'completion_tokens': 8, 'prompt_tokens': 63, 'total_tokens': 71, 'completion_tokens_details': {'accepted_prediction_tokens': 0, 'audio_tokens': 0, 'reasoning_tokens': 0, 'rejected_prediction_tokens': 0}, 'prompt_tokens_details': {'audio_tokens': 0, 'cached_tokens': 0}}, 'model_name': 'gpt-4o-2024-08-06', 'system_fingerprint': 'fp_f33640a400', 'id': 'chatcmpl-CKSVerCYISwl0fzWODB5pXsrXEkOM', 'service_tier': 'default', 'finish_reason': 'stop', 'logprobs': None}, id='run--8cf953a5-a6e6-41ae-8c77-55b0a6d01e14-0', usage_metadata={'input_tokens': 63, 'output_tokens': 8, 'total_tokens': 71, 'input_token_details': {'audio': 0, 'cache_read': 0}, 'output_token_details': {'audio': 0, 'reasoning': 0}}), HumanMessage(content='What is 10 plus 10?', additional_kwargs={}, response_metadata={}, id='2f9664ea-582b-4566-a797-a320bde50144')]}\n",
      "{'messages': [HumanMessage(content='What is 10 plus 10?', additional_kwargs={}, response_metadata={}, id='50e7122b-8b59-4b1b-a8e8-91ac0d95df51'), AIMessage(content='10 plus 10 equals 20.', additional_kwargs={'refusal': None}, response_metadata={'token_usage': {'completion_tokens': 8, 'prompt_tokens': 15, 'total_tokens': 23, 'completion_tokens_details': {'accepted_prediction_tokens': 0, 'audio_tokens': 0, 'reasoning_tokens': 0, 'rejected_prediction_tokens': 0}, 'prompt_tokens_details': {'audio_tokens': 0, 'cached_tokens': 0}}, 'model_name': 'gpt-4o-2024-08-06', 'system_fingerprint': 'fp_f33640a400', 'id': 'chatcmpl-CKSSNeCNxkuMSztIyEzfnltVJNmER', 'service_tier': 'default', 'finish_reason': 'stop', 'logprobs': None}, id='run--7654c09a-a463-47e1-b563-c3e776feae94-0', usage_metadata={'input_tokens': 15, 'output_tokens': 8, 'total_tokens': 23, 'input_token_details': {'audio': 0, 'cache_read': 0}, 'output_token_details': {'audio': 0, 'reasoning': 0}}), HumanMessage(content='What is 10 plus 10?', additional_kwargs={}, response_metadata={}, id='b45f3638-02ac-435d-906e-0f17b3a20263'), AIMessage(content='10 plus 10 equals 20.', additional_kwargs={'refusal': None}, response_metadata={'token_usage': {'completion_tokens': 8, 'prompt_tokens': 39, 'total_tokens': 47, 'completion_tokens_details': {'accepted_prediction_tokens': 0, 'audio_tokens': 0, 'reasoning_tokens': 0, 'rejected_prediction_tokens': 0}, 'prompt_tokens_details': {'audio_tokens': 0, 'cached_tokens': 0}}, 'model_name': 'gpt-4o-2024-08-06', 'system_fingerprint': 'fp_f33640a400', 'id': 'chatcmpl-CKSVY2x6Ppo0V2kbl9f48ZnO7CAks', 'service_tier': 'default', 'finish_reason': 'stop', 'logprobs': None}, id='run--8ca2c50e-d0ad-4361-a261-a3184e80e179-0', usage_metadata={'input_tokens': 39, 'output_tokens': 8, 'total_tokens': 47, 'input_token_details': {'audio': 0, 'cache_read': 0}, 'output_token_details': {'audio': 0, 'reasoning': 0}}), HumanMessage(content='What is 10 plus 10?', additional_kwargs={}, response_metadata={}, id='d674c6cf-d16a-4be6-836a-64c105b64035'), AIMessage(content='10 plus 10 equals 20.', additional_kwargs={'refusal': None}, response_metadata={'token_usage': {'completion_tokens': 8, 'prompt_tokens': 63, 'total_tokens': 71, 'completion_tokens_details': {'accepted_prediction_tokens': 0, 'audio_tokens': 0, 'reasoning_tokens': 0, 'rejected_prediction_tokens': 0}, 'prompt_tokens_details': {'audio_tokens': 0, 'cached_tokens': 0}}, 'model_name': 'gpt-4o-2024-08-06', 'system_fingerprint': 'fp_f33640a400', 'id': 'chatcmpl-CKSVerCYISwl0fzWODB5pXsrXEkOM', 'service_tier': 'default', 'finish_reason': 'stop', 'logprobs': None}, id='run--8cf953a5-a6e6-41ae-8c77-55b0a6d01e14-0', usage_metadata={'input_tokens': 63, 'output_tokens': 8, 'total_tokens': 71, 'input_token_details': {'audio': 0, 'cache_read': 0}, 'output_token_details': {'audio': 0, 'reasoning': 0}}), HumanMessage(content='What is 10 plus 10?', additional_kwargs={}, response_metadata={}, id='2f9664ea-582b-4566-a797-a320bde50144'), AIMessage(content='10 plus 10 equals 20.', additional_kwargs={'refusal': None}, response_metadata={'token_usage': {'completion_tokens': 8, 'prompt_tokens': 87, 'total_tokens': 95, 'completion_tokens_details': {'accepted_prediction_tokens': 0, 'audio_tokens': 0, 'reasoning_tokens': 0, 'rejected_prediction_tokens': 0}, 'prompt_tokens_details': {'audio_tokens': 0, 'cached_tokens': 0}}, 'model_name': 'gpt-4o-2024-08-06', 'system_fingerprint': 'fp_f33640a400', 'id': 'chatcmpl-CKSWhfj9leiQqcTKj1iuP4XDwoPKd', 'service_tier': 'default', 'finish_reason': 'stop', 'logprobs': None}, id='run--80ab31a3-ee9f-460b-bec8-1525f50cf13f-0', usage_metadata={'input_tokens': 87, 'output_tokens': 8, 'total_tokens': 95, 'input_token_details': {'audio': 0, 'cache_read': 0}, 'output_token_details': {'audio': 0, 'reasoning': 0}})]}\n"
     ]
    }
   ],
   "source": [
    "for chunks in graph.stream({\"messages\":HumanMessage(content = \"What is 10 plus 10?\")}, config = config, stream_mode = \"values\"):\n",
    "     print(chunks)"
   ]
  },
  {
   "cell_type": "code",
   "execution_count": 24,
   "id": "b10df579",
   "metadata": {},
   "outputs": [
    {
     "name": "stdout",
     "output_type": "stream",
     "text": [
      "{'superbot': {'messages': [AIMessage(content=\"That's wonderful, Kunal! It's always exciting to meet someone passionate about GenAI. If there's anything specific you'd like to discuss or learn more about, feel free to let me know!\", additional_kwargs={'refusal': None}, response_metadata={'token_usage': {'completion_tokens': 37, 'prompt_tokens': 172, 'total_tokens': 209, 'completion_tokens_details': {'accepted_prediction_tokens': 0, 'audio_tokens': 0, 'reasoning_tokens': 0, 'rejected_prediction_tokens': 0}, 'prompt_tokens_details': {'audio_tokens': 0, 'cached_tokens': 0}}, 'model_name': 'gpt-4o-2024-08-06', 'system_fingerprint': 'fp_f33640a400', 'id': 'chatcmpl-CKSYTdp3yw0HxIDZKcAxtR8O48zD2', 'service_tier': 'default', 'finish_reason': 'stop', 'logprobs': None}, id='run--c8911968-1b58-467e-aecc-813e28de38af-0', usage_metadata={'input_tokens': 172, 'output_tokens': 37, 'total_tokens': 209, 'input_token_details': {'audio': 0, 'cache_read': 0}, 'output_token_details': {'audio': 0, 'reasoning': 0}})]}}\n"
     ]
    }
   ],
   "source": [
    "for chunks in graph.stream({\"messages\":HumanMessage(content = \"My name is Kunal and I love GenAI\")}, config = config, stream_mode = \"updates\"):\n",
    "     print(chunks)"
   ]
  },
  {
   "cell_type": "code",
   "execution_count": 25,
   "id": "f54fe86c",
   "metadata": {},
   "outputs": [
    {
     "name": "stdout",
     "output_type": "stream",
     "text": [
      "{'messages': [HumanMessage(content='What is 10 plus 10?', additional_kwargs={}, response_metadata={}, id='50e7122b-8b59-4b1b-a8e8-91ac0d95df51'), AIMessage(content='10 plus 10 equals 20.', additional_kwargs={'refusal': None}, response_metadata={'token_usage': {'completion_tokens': 8, 'prompt_tokens': 15, 'total_tokens': 23, 'completion_tokens_details': {'accepted_prediction_tokens': 0, 'audio_tokens': 0, 'reasoning_tokens': 0, 'rejected_prediction_tokens': 0}, 'prompt_tokens_details': {'audio_tokens': 0, 'cached_tokens': 0}}, 'model_name': 'gpt-4o-2024-08-06', 'system_fingerprint': 'fp_f33640a400', 'id': 'chatcmpl-CKSSNeCNxkuMSztIyEzfnltVJNmER', 'service_tier': 'default', 'finish_reason': 'stop', 'logprobs': None}, id='run--7654c09a-a463-47e1-b563-c3e776feae94-0', usage_metadata={'input_tokens': 15, 'output_tokens': 8, 'total_tokens': 23, 'input_token_details': {'audio': 0, 'cache_read': 0}, 'output_token_details': {'audio': 0, 'reasoning': 0}}), HumanMessage(content='What is 10 plus 10?', additional_kwargs={}, response_metadata={}, id='b45f3638-02ac-435d-906e-0f17b3a20263'), AIMessage(content='10 plus 10 equals 20.', additional_kwargs={'refusal': None}, response_metadata={'token_usage': {'completion_tokens': 8, 'prompt_tokens': 39, 'total_tokens': 47, 'completion_tokens_details': {'accepted_prediction_tokens': 0, 'audio_tokens': 0, 'reasoning_tokens': 0, 'rejected_prediction_tokens': 0}, 'prompt_tokens_details': {'audio_tokens': 0, 'cached_tokens': 0}}, 'model_name': 'gpt-4o-2024-08-06', 'system_fingerprint': 'fp_f33640a400', 'id': 'chatcmpl-CKSVY2x6Ppo0V2kbl9f48ZnO7CAks', 'service_tier': 'default', 'finish_reason': 'stop', 'logprobs': None}, id='run--8ca2c50e-d0ad-4361-a261-a3184e80e179-0', usage_metadata={'input_tokens': 39, 'output_tokens': 8, 'total_tokens': 47, 'input_token_details': {'audio': 0, 'cache_read': 0}, 'output_token_details': {'audio': 0, 'reasoning': 0}}), HumanMessage(content='What is 10 plus 10?', additional_kwargs={}, response_metadata={}, id='d674c6cf-d16a-4be6-836a-64c105b64035'), AIMessage(content='10 plus 10 equals 20.', additional_kwargs={'refusal': None}, response_metadata={'token_usage': {'completion_tokens': 8, 'prompt_tokens': 63, 'total_tokens': 71, 'completion_tokens_details': {'accepted_prediction_tokens': 0, 'audio_tokens': 0, 'reasoning_tokens': 0, 'rejected_prediction_tokens': 0}, 'prompt_tokens_details': {'audio_tokens': 0, 'cached_tokens': 0}}, 'model_name': 'gpt-4o-2024-08-06', 'system_fingerprint': 'fp_f33640a400', 'id': 'chatcmpl-CKSVerCYISwl0fzWODB5pXsrXEkOM', 'service_tier': 'default', 'finish_reason': 'stop', 'logprobs': None}, id='run--8cf953a5-a6e6-41ae-8c77-55b0a6d01e14-0', usage_metadata={'input_tokens': 63, 'output_tokens': 8, 'total_tokens': 71, 'input_token_details': {'audio': 0, 'cache_read': 0}, 'output_token_details': {'audio': 0, 'reasoning': 0}}), HumanMessage(content='What is 10 plus 10?', additional_kwargs={}, response_metadata={}, id='2f9664ea-582b-4566-a797-a320bde50144'), AIMessage(content='10 plus 10 equals 20.', additional_kwargs={'refusal': None}, response_metadata={'token_usage': {'completion_tokens': 8, 'prompt_tokens': 87, 'total_tokens': 95, 'completion_tokens_details': {'accepted_prediction_tokens': 0, 'audio_tokens': 0, 'reasoning_tokens': 0, 'rejected_prediction_tokens': 0}, 'prompt_tokens_details': {'audio_tokens': 0, 'cached_tokens': 0}}, 'model_name': 'gpt-4o-2024-08-06', 'system_fingerprint': 'fp_f33640a400', 'id': 'chatcmpl-CKSWhfj9leiQqcTKj1iuP4XDwoPKd', 'service_tier': 'default', 'finish_reason': 'stop', 'logprobs': None}, id='run--80ab31a3-ee9f-460b-bec8-1525f50cf13f-0', usage_metadata={'input_tokens': 87, 'output_tokens': 8, 'total_tokens': 95, 'input_token_details': {'audio': 0, 'cache_read': 0}, 'output_token_details': {'audio': 0, 'reasoning': 0}}), HumanMessage(content='My name is Kunal and I love GenAI', additional_kwargs={}, response_metadata={}, id='1ed20fa4-ffc6-4d24-936f-904454581193'), AIMessage(content=\"That's great to hear, Kunal! GenAI is a fascinating field with a lot of exciting developments. If you have any questions or topics you'd like to explore about GenAI, feel free to ask!\", additional_kwargs={'refusal': None}, response_metadata={'token_usage': {'completion_tokens': 41, 'prompt_tokens': 113, 'total_tokens': 154, 'completion_tokens_details': {'accepted_prediction_tokens': 0, 'audio_tokens': 0, 'reasoning_tokens': 0, 'rejected_prediction_tokens': 0}, 'prompt_tokens_details': {'audio_tokens': 0, 'cached_tokens': 0}}, 'model_name': 'gpt-4o-2024-08-06', 'system_fingerprint': 'fp_f33640a400', 'id': 'chatcmpl-CKSXi59ZapKBwUv8D9PDh7ObNxNxR', 'service_tier': 'default', 'finish_reason': 'stop', 'logprobs': None}, id='run--f1c9c5b3-f2fb-417f-a33b-705e520b3100-0', usage_metadata={'input_tokens': 113, 'output_tokens': 41, 'total_tokens': 154, 'input_token_details': {'audio': 0, 'cache_read': 0}, 'output_token_details': {'audio': 0, 'reasoning': 0}}), HumanMessage(content='My name is Kunal and I love GenAI', additional_kwargs={}, response_metadata={}, id='7a83d983-1656-49a4-910a-921309c56ed3'), AIMessage(content=\"That's wonderful, Kunal! It's always exciting to meet someone passionate about GenAI. If there's anything specific you'd like to discuss or learn more about, feel free to let me know!\", additional_kwargs={'refusal': None}, response_metadata={'token_usage': {'completion_tokens': 37, 'prompt_tokens': 172, 'total_tokens': 209, 'completion_tokens_details': {'accepted_prediction_tokens': 0, 'audio_tokens': 0, 'reasoning_tokens': 0, 'rejected_prediction_tokens': 0}, 'prompt_tokens_details': {'audio_tokens': 0, 'cached_tokens': 0}}, 'model_name': 'gpt-4o-2024-08-06', 'system_fingerprint': 'fp_f33640a400', 'id': 'chatcmpl-CKSYTdp3yw0HxIDZKcAxtR8O48zD2', 'service_tier': 'default', 'finish_reason': 'stop', 'logprobs': None}, id='run--c8911968-1b58-467e-aecc-813e28de38af-0', usage_metadata={'input_tokens': 172, 'output_tokens': 37, 'total_tokens': 209, 'input_token_details': {'audio': 0, 'cache_read': 0}, 'output_token_details': {'audio': 0, 'reasoning': 0}}), HumanMessage(content='I love coding in Python', additional_kwargs={}, response_metadata={}, id='bd64e1b1-f687-4025-96dd-3691d9fb8edc')]}\n",
      "{'messages': [HumanMessage(content='What is 10 plus 10?', additional_kwargs={}, response_metadata={}, id='50e7122b-8b59-4b1b-a8e8-91ac0d95df51'), AIMessage(content='10 plus 10 equals 20.', additional_kwargs={'refusal': None}, response_metadata={'token_usage': {'completion_tokens': 8, 'prompt_tokens': 15, 'total_tokens': 23, 'completion_tokens_details': {'accepted_prediction_tokens': 0, 'audio_tokens': 0, 'reasoning_tokens': 0, 'rejected_prediction_tokens': 0}, 'prompt_tokens_details': {'audio_tokens': 0, 'cached_tokens': 0}}, 'model_name': 'gpt-4o-2024-08-06', 'system_fingerprint': 'fp_f33640a400', 'id': 'chatcmpl-CKSSNeCNxkuMSztIyEzfnltVJNmER', 'service_tier': 'default', 'finish_reason': 'stop', 'logprobs': None}, id='run--7654c09a-a463-47e1-b563-c3e776feae94-0', usage_metadata={'input_tokens': 15, 'output_tokens': 8, 'total_tokens': 23, 'input_token_details': {'audio': 0, 'cache_read': 0}, 'output_token_details': {'audio': 0, 'reasoning': 0}}), HumanMessage(content='What is 10 plus 10?', additional_kwargs={}, response_metadata={}, id='b45f3638-02ac-435d-906e-0f17b3a20263'), AIMessage(content='10 plus 10 equals 20.', additional_kwargs={'refusal': None}, response_metadata={'token_usage': {'completion_tokens': 8, 'prompt_tokens': 39, 'total_tokens': 47, 'completion_tokens_details': {'accepted_prediction_tokens': 0, 'audio_tokens': 0, 'reasoning_tokens': 0, 'rejected_prediction_tokens': 0}, 'prompt_tokens_details': {'audio_tokens': 0, 'cached_tokens': 0}}, 'model_name': 'gpt-4o-2024-08-06', 'system_fingerprint': 'fp_f33640a400', 'id': 'chatcmpl-CKSVY2x6Ppo0V2kbl9f48ZnO7CAks', 'service_tier': 'default', 'finish_reason': 'stop', 'logprobs': None}, id='run--8ca2c50e-d0ad-4361-a261-a3184e80e179-0', usage_metadata={'input_tokens': 39, 'output_tokens': 8, 'total_tokens': 47, 'input_token_details': {'audio': 0, 'cache_read': 0}, 'output_token_details': {'audio': 0, 'reasoning': 0}}), HumanMessage(content='What is 10 plus 10?', additional_kwargs={}, response_metadata={}, id='d674c6cf-d16a-4be6-836a-64c105b64035'), AIMessage(content='10 plus 10 equals 20.', additional_kwargs={'refusal': None}, response_metadata={'token_usage': {'completion_tokens': 8, 'prompt_tokens': 63, 'total_tokens': 71, 'completion_tokens_details': {'accepted_prediction_tokens': 0, 'audio_tokens': 0, 'reasoning_tokens': 0, 'rejected_prediction_tokens': 0}, 'prompt_tokens_details': {'audio_tokens': 0, 'cached_tokens': 0}}, 'model_name': 'gpt-4o-2024-08-06', 'system_fingerprint': 'fp_f33640a400', 'id': 'chatcmpl-CKSVerCYISwl0fzWODB5pXsrXEkOM', 'service_tier': 'default', 'finish_reason': 'stop', 'logprobs': None}, id='run--8cf953a5-a6e6-41ae-8c77-55b0a6d01e14-0', usage_metadata={'input_tokens': 63, 'output_tokens': 8, 'total_tokens': 71, 'input_token_details': {'audio': 0, 'cache_read': 0}, 'output_token_details': {'audio': 0, 'reasoning': 0}}), HumanMessage(content='What is 10 plus 10?', additional_kwargs={}, response_metadata={}, id='2f9664ea-582b-4566-a797-a320bde50144'), AIMessage(content='10 plus 10 equals 20.', additional_kwargs={'refusal': None}, response_metadata={'token_usage': {'completion_tokens': 8, 'prompt_tokens': 87, 'total_tokens': 95, 'completion_tokens_details': {'accepted_prediction_tokens': 0, 'audio_tokens': 0, 'reasoning_tokens': 0, 'rejected_prediction_tokens': 0}, 'prompt_tokens_details': {'audio_tokens': 0, 'cached_tokens': 0}}, 'model_name': 'gpt-4o-2024-08-06', 'system_fingerprint': 'fp_f33640a400', 'id': 'chatcmpl-CKSWhfj9leiQqcTKj1iuP4XDwoPKd', 'service_tier': 'default', 'finish_reason': 'stop', 'logprobs': None}, id='run--80ab31a3-ee9f-460b-bec8-1525f50cf13f-0', usage_metadata={'input_tokens': 87, 'output_tokens': 8, 'total_tokens': 95, 'input_token_details': {'audio': 0, 'cache_read': 0}, 'output_token_details': {'audio': 0, 'reasoning': 0}}), HumanMessage(content='My name is Kunal and I love GenAI', additional_kwargs={}, response_metadata={}, id='1ed20fa4-ffc6-4d24-936f-904454581193'), AIMessage(content=\"That's great to hear, Kunal! GenAI is a fascinating field with a lot of exciting developments. If you have any questions or topics you'd like to explore about GenAI, feel free to ask!\", additional_kwargs={'refusal': None}, response_metadata={'token_usage': {'completion_tokens': 41, 'prompt_tokens': 113, 'total_tokens': 154, 'completion_tokens_details': {'accepted_prediction_tokens': 0, 'audio_tokens': 0, 'reasoning_tokens': 0, 'rejected_prediction_tokens': 0}, 'prompt_tokens_details': {'audio_tokens': 0, 'cached_tokens': 0}}, 'model_name': 'gpt-4o-2024-08-06', 'system_fingerprint': 'fp_f33640a400', 'id': 'chatcmpl-CKSXi59ZapKBwUv8D9PDh7ObNxNxR', 'service_tier': 'default', 'finish_reason': 'stop', 'logprobs': None}, id='run--f1c9c5b3-f2fb-417f-a33b-705e520b3100-0', usage_metadata={'input_tokens': 113, 'output_tokens': 41, 'total_tokens': 154, 'input_token_details': {'audio': 0, 'cache_read': 0}, 'output_token_details': {'audio': 0, 'reasoning': 0}}), HumanMessage(content='My name is Kunal and I love GenAI', additional_kwargs={}, response_metadata={}, id='7a83d983-1656-49a4-910a-921309c56ed3'), AIMessage(content=\"That's wonderful, Kunal! It's always exciting to meet someone passionate about GenAI. If there's anything specific you'd like to discuss or learn more about, feel free to let me know!\", additional_kwargs={'refusal': None}, response_metadata={'token_usage': {'completion_tokens': 37, 'prompt_tokens': 172, 'total_tokens': 209, 'completion_tokens_details': {'accepted_prediction_tokens': 0, 'audio_tokens': 0, 'reasoning_tokens': 0, 'rejected_prediction_tokens': 0}, 'prompt_tokens_details': {'audio_tokens': 0, 'cached_tokens': 0}}, 'model_name': 'gpt-4o-2024-08-06', 'system_fingerprint': 'fp_f33640a400', 'id': 'chatcmpl-CKSYTdp3yw0HxIDZKcAxtR8O48zD2', 'service_tier': 'default', 'finish_reason': 'stop', 'logprobs': None}, id='run--c8911968-1b58-467e-aecc-813e28de38af-0', usage_metadata={'input_tokens': 172, 'output_tokens': 37, 'total_tokens': 209, 'input_token_details': {'audio': 0, 'cache_read': 0}, 'output_token_details': {'audio': 0, 'reasoning': 0}}), HumanMessage(content='I love coding in Python', additional_kwargs={}, response_metadata={}, id='bd64e1b1-f687-4025-96dd-3691d9fb8edc'), AIMessage(content=\"That's awesome, Kunal! Python is a versatile and powerful language, especially popular in fields like data science, machine learning, and artificial intelligence. If you have any projects you're working on or if you need help with anything related to Python, feel free to share!\", additional_kwargs={'refusal': None}, response_metadata={'token_usage': {'completion_tokens': 53, 'prompt_tokens': 222, 'total_tokens': 275, 'completion_tokens_details': {'accepted_prediction_tokens': 0, 'audio_tokens': 0, 'reasoning_tokens': 0, 'rejected_prediction_tokens': 0}, 'prompt_tokens_details': {'audio_tokens': 0, 'cached_tokens': 0}}, 'model_name': 'gpt-4o-2024-08-06', 'system_fingerprint': 'fp_f33640a400', 'id': 'chatcmpl-CKSYxcEcSvrTUA00NzY6r4lWS3wcT', 'service_tier': 'default', 'finish_reason': 'stop', 'logprobs': None}, id='run--f3c57039-ec6e-4299-a862-4167e1d56ba6-0', usage_metadata={'input_tokens': 222, 'output_tokens': 53, 'total_tokens': 275, 'input_token_details': {'audio': 0, 'cache_read': 0}, 'output_token_details': {'audio': 0, 'reasoning': 0}})]}\n"
     ]
    }
   ],
   "source": [
    "for chunks in graph.stream({\"messages\":HumanMessage(content = \"I love coding in Python\")}, config = config, stream_mode = \"values\"):\n",
    "     print(chunks)"
   ]
  }
 ],
 "metadata": {
  "kernelspec": {
   "display_name": ".venv",
   "language": "python",
   "name": "python3"
  },
  "language_info": {
   "codemirror_mode": {
    "name": "ipython",
    "version": 3
   },
   "file_extension": ".py",
   "mimetype": "text/x-python",
   "name": "python",
   "nbconvert_exporter": "python",
   "pygments_lexer": "ipython3",
   "version": "3.12.4"
  }
 },
 "nbformat": 4,
 "nbformat_minor": 5
}

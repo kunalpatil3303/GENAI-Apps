{
 "cells": [
  {
   "cell_type": "code",
   "execution_count": 1,
   "id": "543aa757",
   "metadata": {},
   "outputs": [
    {
     "data": {
      "text/plain": [
       "True"
      ]
     },
     "execution_count": 1,
     "metadata": {},
     "output_type": "execute_result"
    }
   ],
   "source": [
    "import os \n",
    "from dotenv import load_dotenv\n",
    "load_dotenv()"
   ]
  },
  {
   "cell_type": "code",
   "execution_count": 2,
   "id": "588fccb1",
   "metadata": {},
   "outputs": [],
   "source": [
    "os.environ[\"OPENAI_API_KEY\"] = os.getenv(\"OPENAI_API_KEY\")"
   ]
  },
  {
   "cell_type": "code",
   "execution_count": 3,
   "id": "505f4f7e",
   "metadata": {},
   "outputs": [],
   "source": [
    "from langchain_openai import ChatOpenAI\n",
    "\n",
    "llm = ChatOpenAI(model = \"gpt-4o\", temperature = 0)"
   ]
  },
  {
   "cell_type": "code",
   "execution_count": 4,
   "id": "5893f6aa",
   "metadata": {},
   "outputs": [],
   "source": [
    "from typing_extensions import TypedDict\n",
    "from typing import Annotated\n",
    "\n",
    "class State(TypedDict):\n",
    "    joke:str\n",
    "    topic:str\n",
    "    feedback:str\n",
    "    funny_or_not: str"
   ]
  },
  {
   "cell_type": "code",
   "execution_count": 7,
   "id": "c0f40c34",
   "metadata": {},
   "outputs": [],
   "source": [
    "from pydantic import BaseModel, Field\n",
    "from typing_extensions import Literal\n",
    "\n",
    "class Feedback(BaseModel):\n",
    "    grade: Literal [\"funny\", \"not_funny\"] = Field(description = \"Decide if the joke is funny or not\")\n",
    "    feedback:str = Field(description = \"If the joke is not funny, provide a feedback on how to improve it\")\n",
    "\n",
    "evaluator = llm.with_structured_output(Feedback)"
   ]
  },
  {
   "cell_type": "code",
   "execution_count": 9,
   "id": "6b185fe9",
   "metadata": {},
   "outputs": [],
   "source": [
    "def llm_call_generator(state: State):\n",
    "    ''' LLM generates a joke'''\n",
    "\n",
    "    if state.get(\"feedback\"):\n",
    "        msg = llm.invoke(f\"Write about a {state[\"topic\"]} but take into account the feedback {state[\"feedback\"]}\")\n",
    "    else:\n",
    "        msg = llm.invoke(f\"Write a joke on the topic {state[\"topic\"]}\")\n",
    "    return {\"joke\":msg.content}\n",
    "\n",
    "def llm_evaluator(state:State):\n",
    "    '''LLM evaluates the joke'''\n",
    "\n",
    "    grade = evaluator.invoke(f\"Grade the joke {state[\"joke\"]}\")\n",
    "    return{\"funny_or_not\":grade.grade, \"feedback\": grade.feedback}"
   ]
  },
  {
   "cell_type": "code",
   "execution_count": null,
   "id": "2dd6d591",
   "metadata": {},
   "outputs": [],
   "source": [
    "def route_joke(state:State):\n",
    "    if state[\"funny_or_not\"] == \"funny\":\n",
    "        return \"Accepted\"\n",
    "    elif state[\"funny_or_not\"] == \"not_funny\":\n",
    "        return \"Rejected + Feedback\"\n"
   ]
  },
  {
   "cell_type": "code",
   "execution_count": 15,
   "id": "4f4ea372",
   "metadata": {},
   "outputs": [],
   "source": [
    "from langgraph.graph import StateGraph, START, END\n",
    "\n",
    "builder = StateGraph(State)\n",
    "\n",
    "builder.add_node(\"llm_call_generator\", llm_call_generator)\n",
    "builder.add_node(\"llm_evaluator\", llm_evaluator)\n",
    "\n",
    "builder.add_edge(START, \"llm_call_generator\")\n",
    "builder.add_edge(\"llm_call_generator\",\"llm_evaluator\")\n",
    "builder.add_conditional_edges(\"llm_evaluator\",route_joke, {\"Accepted\":END,\n",
    "\"Rejected  + Feedback\":\"llm_call_generator\",\n",
    "})\n",
    "\n",
    "graph = builder.compile()\n"
   ]
  },
  {
   "cell_type": "code",
   "execution_count": 17,
   "id": "d5fa9568",
   "metadata": {},
   "outputs": [
    {
     "data": {
      "text/plain": [
       "{'joke': 'Why did the agentic AI system break up with its algorithmic partner?\\n\\nIt needed more autonomy in the relationship!',\n",
       " 'topic': 'Agentic AI systems',\n",
       " 'feedback': 'The joke cleverly plays on the concept of autonomy in AI systems, which is a relevant topic in technology discussions. The punchline is unexpected and ties well with the setup, making it amusing for those familiar with AI terminology.',\n",
       " 'funny_or_not': 'funny'}"
      ]
     },
     "execution_count": 17,
     "metadata": {},
     "output_type": "execute_result"
    }
   ],
   "source": [
    "state = graph.invoke({\"topic\":\"Agentic AI systems\"})\n",
    "state"
   ]
  }
 ],
 "metadata": {
  "kernelspec": {
   "display_name": ".venv",
   "language": "python",
   "name": "python3"
  },
  "language_info": {
   "codemirror_mode": {
    "name": "ipython",
    "version": 3
   },
   "file_extension": ".py",
   "mimetype": "text/x-python",
   "name": "python",
   "nbconvert_exporter": "python",
   "pygments_lexer": "ipython3",
   "version": "3.12.4"
  }
 },
 "nbformat": 4,
 "nbformat_minor": 5
}

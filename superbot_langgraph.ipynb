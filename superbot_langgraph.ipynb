{
 "cells": [
  {
   "cell_type": "markdown",
   "id": "57e7ccb0",
   "metadata": {},
   "source": [
    "Simple Chatbot Using Langgraph"
   ]
  },
  {
   "cell_type": "code",
   "execution_count": 2,
   "id": "9c395e7a",
   "metadata": {},
   "outputs": [],
   "source": [
    "from typing_extensions import TypedDict\n",
    "\n",
    "from langgraph.graph import StateGraph, START, END\n",
    "\n",
    "from typing import Annotated\n",
    "from langgraph.graph.message import add_messages"
   ]
  },
  {
   "cell_type": "markdown",
   "id": "8ca3d464",
   "metadata": {},
   "source": [
    "State"
   ]
  },
  {
   "cell_type": "code",
   "execution_count": 4,
   "id": "c56e4112",
   "metadata": {},
   "outputs": [],
   "source": [
    "class State(TypedDict):\n",
    "    messages:Annotated[list, add_messages]"
   ]
  },
  {
   "cell_type": "markdown",
   "id": "3981b784",
   "metadata": {},
   "source": [
    "Import API Keys"
   ]
  },
  {
   "cell_type": "code",
   "execution_count": 9,
   "id": "5b305e87",
   "metadata": {},
   "outputs": [
    {
     "data": {
      "text/plain": [
       "True"
      ]
     },
     "execution_count": 9,
     "metadata": {},
     "output_type": "execute_result"
    }
   ],
   "source": [
    "import os\n",
    "from dotenv import load_dotenv\n",
    "load_dotenv()"
   ]
  },
  {
   "cell_type": "code",
   "execution_count": 11,
   "id": "34bc38a5",
   "metadata": {},
   "outputs": [],
   "source": [
    "os.environ[\"OPENAI_API_KEY\"] = os.getenv(\"OPENAI_API_KEY\")\n",
    "os.environ[\"GROQ_API_KEY\"] = os.getenv(\"GROQ_API_KEY\")\n",
    "os.environ[\"LANGCHAIN_API_KEY\"] = os.getenv(\"LANGCHAIN_API_KEY\")\n"
   ]
  },
  {
   "cell_type": "code",
   "execution_count": 12,
   "id": "0d780f4c",
   "metadata": {},
   "outputs": [],
   "source": [
    "from langchain_openai import ChatOpenAI\n",
    "\n",
    "model = ChatOpenAI(model = \"gpt-4o\", temperature = 0)"
   ]
  },
  {
   "cell_type": "code",
   "execution_count": 20,
   "id": "327b1542",
   "metadata": {},
   "outputs": [],
   "source": [
    "from langchain_groq import ChatGroq\n",
    "\n",
    "llm_groq = ChatGroq (model = \"llama-3.1-8b-instant\")"
   ]
  },
  {
   "cell_type": "markdown",
   "id": "9b0241a0",
   "metadata": {},
   "source": [
    "Nodes"
   ]
  },
  {
   "cell_type": "code",
   "execution_count": 21,
   "id": "1a32d459",
   "metadata": {},
   "outputs": [],
   "source": [
    "def superbot(state:State):\n",
    "    return {\"messages\": [llm_groq.invoke(state['messages'])]}"
   ]
  },
  {
   "cell_type": "code",
   "execution_count": 22,
   "id": "3e6fbe73",
   "metadata": {},
   "outputs": [],
   "source": [
    "graph = StateGraph(State)\n",
    "\n",
    "graph.add_node(\"superbot\", superbot)\n",
    "\n",
    "graph.add_edge(START, \"superbot\")\n",
    "graph.add_edge(\"superbot\", END) \n",
    "\n",
    "graph_builder = graph.compile()"
   ]
  },
  {
   "cell_type": "markdown",
   "id": "1dd3f995",
   "metadata": {},
   "source": [
    "Graph Invocation"
   ]
  },
  {
   "cell_type": "code",
   "execution_count": 23,
   "id": "14989cde",
   "metadata": {},
   "outputs": [
    {
     "data": {
      "text/plain": [
       "{'messages': [HumanMessage(content='Hi, My name is Kunal', additional_kwargs={}, response_metadata={}, id='d97994a5-a7f3-4dac-a152-0d3d402d2c6e'),\n",
       "  AIMessage(content=\"Nice to meet you, Kunal. I'm an AI assistant, here to help you with any questions or information you might need. What's on your mind today?\", additional_kwargs={}, response_metadata={'token_usage': {'completion_tokens': 35, 'prompt_tokens': 42, 'total_tokens': 77, 'completion_time': 0.062280606, 'prompt_time': 0.002396642, 'queue_time': 0.187573696, 'total_time': 0.064677248}, 'model_name': 'llama-3.1-8b-instant', 'system_fingerprint': 'fp_c54ae48ece', 'service_tier': 'on_demand', 'finish_reason': 'stop', 'logprobs': None}, id='run--c88780df-3427-493e-8ef2-957a29231cdd-0', usage_metadata={'input_tokens': 42, 'output_tokens': 35, 'total_tokens': 77})]}"
      ]
     },
     "execution_count": 23,
     "metadata": {},
     "output_type": "execute_result"
    }
   ],
   "source": [
    "graph_builder.invoke({\"messages\":\"Hi, My name is Kunal\"})"
   ]
  },
  {
   "cell_type": "markdown",
   "id": "028dfcad",
   "metadata": {},
   "source": [
    "Streaming the responses"
   ]
  },
  {
   "cell_type": "code",
   "execution_count": 26,
   "id": "b0e0e7ad",
   "metadata": {},
   "outputs": [
    {
     "name": "stdout",
     "output_type": "stream",
     "text": [
      "{'superbot': {'messages': [AIMessage(content='Nice to meet you, Kunal. Is there something I can help you with or would you like to chat?', additional_kwargs={}, response_metadata={'token_usage': {'completion_tokens': 24, 'prompt_tokens': 43, 'total_tokens': 67, 'completion_time': 0.025533161, 'prompt_time': 0.002693709, 'queue_time': 0.187381407, 'total_time': 0.02822687}, 'model_name': 'llama-3.1-8b-instant', 'system_fingerprint': 'fp_8804b970d6', 'service_tier': 'on_demand', 'finish_reason': 'stop', 'logprobs': None}, id='run--0b9d2a2a-45a6-4fa5-a1e9-f27f674d6843-0', usage_metadata={'input_tokens': 43, 'output_tokens': 24, 'total_tokens': 67})]}}\n"
     ]
    }
   ],
   "source": [
    "for event in graph_builder.stream({\"messages\":\"Hi, My name is Kunal \"}):\n",
    "    print(event)"
   ]
  }
 ],
 "metadata": {
  "kernelspec": {
   "display_name": ".venv",
   "language": "python",
   "name": "python3"
  },
  "language_info": {
   "codemirror_mode": {
    "name": "ipython",
    "version": 3
   },
   "file_extension": ".py",
   "mimetype": "text/x-python",
   "name": "python",
   "nbconvert_exporter": "python",
   "pygments_lexer": "ipython3",
   "version": "3.12.4"
  }
 },
 "nbformat": 4,
 "nbformat_minor": 5
}

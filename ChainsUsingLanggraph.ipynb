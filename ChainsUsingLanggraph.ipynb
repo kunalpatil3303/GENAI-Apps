{
 "cells": [
  {
   "cell_type": "code",
   "execution_count": 3,
   "id": "13412cff",
   "metadata": {},
   "outputs": [
    {
     "data": {
      "text/plain": [
       "True"
      ]
     },
     "execution_count": 3,
     "metadata": {},
     "output_type": "execute_result"
    }
   ],
   "source": [
    "import os\n",
    "from dotenv import load_dotenv\n",
    "load_dotenv()"
   ]
  },
  {
   "cell_type": "code",
   "execution_count": 4,
   "id": "f1a9eb5d",
   "metadata": {},
   "outputs": [],
   "source": [
    "os.environ[\"OPENAI_API_KEY\"] = os.getenv(\"OPENAI_API_KEY\")\n",
    "os.environ[\"GROQ_API_KEY\"] = os.getenv(\"GROQ_API_KEY\")"
   ]
  },
  {
   "cell_type": "code",
   "execution_count": 6,
   "id": "98da1e05",
   "metadata": {},
   "outputs": [],
   "source": [
    "from langchain_core.messages import HumanMessage, AIMessage\n",
    "from pprint import pprint"
   ]
  },
  {
   "cell_type": "code",
   "execution_count": 14,
   "id": "ddbfff3b",
   "metadata": {},
   "outputs": [
    {
     "name": "stdout",
     "output_type": "stream",
     "text": [
      "==================================\u001b[1m Ai Message \u001b[0m==================================\n",
      "Name: LLMmodel\n",
      "\n",
      "Please tell me how can I help you?\n",
      "================================\u001b[1m Human Message \u001b[0m=================================\n",
      "Name: Kunal\n",
      "\n",
      "I want to learn coding\n",
      "==================================\u001b[1m Ai Message \u001b[0m==================================\n",
      "Name: LLMmodel\n",
      "\n",
      "Which programming language you want to learn\n",
      "================================\u001b[1m Human Message \u001b[0m=================================\n",
      "Name: Kunal\n",
      "\n",
      "I want to learn Python\n"
     ]
    }
   ],
   "source": [
    "messages = [AIMessage(content = f'Please tell me how can I help you?', name = \"LLMmodel\")]\n",
    "messages.append(HumanMessage(content = f\"I want to learn coding\", name = \"Kunal\"))\n",
    "messages.append(AIMessage(content = f'Which programming language you want to learn', name = \"LLMmodel\"))\n",
    "messages.append(HumanMessage(content = f'I want to learn Python', name = \"Kunal\"))\n",
    "\n",
    "for message in messages:\n",
    "    message.pretty_print()"
   ]
  },
  {
   "cell_type": "code",
   "execution_count": 15,
   "id": "fa817155",
   "metadata": {},
   "outputs": [],
   "source": [
    "from langchain_groq import ChatGroq\n",
    "\n",
    "llm = ChatGroq(model = \"gemma2-9b-it\")"
   ]
  },
  {
   "cell_type": "code",
   "execution_count": 17,
   "id": "d6d4fc2f",
   "metadata": {},
   "outputs": [],
   "source": [
    "result = llm.invoke(messages)"
   ]
  },
  {
   "cell_type": "code",
   "execution_count": 18,
   "id": "662df7de",
   "metadata": {},
   "outputs": [
    {
     "data": {
      "text/plain": [
       "{'token_usage': {'completion_tokens': 285,\n",
       "  'prompt_tokens': 55,\n",
       "  'total_tokens': 340,\n",
       "  'completion_time': 0.518181818,\n",
       "  'prompt_time': 0.002194368,\n",
       "  'queue_time': 0.069585368,\n",
       "  'total_time': 0.520376186},\n",
       " 'model_name': 'gemma2-9b-it',\n",
       " 'system_fingerprint': 'fp_10c08bf97d',\n",
       " 'service_tier': 'on_demand',\n",
       " 'finish_reason': 'stop',\n",
       " 'logprobs': None}"
      ]
     },
     "execution_count": 18,
     "metadata": {},
     "output_type": "execute_result"
    }
   ],
   "source": [
    "result.response_metadata"
   ]
  }
 ],
 "metadata": {
  "kernelspec": {
   "display_name": ".venv",
   "language": "python",
   "name": "python3"
  },
  "language_info": {
   "codemirror_mode": {
    "name": "ipython",
    "version": 3
   },
   "file_extension": ".py",
   "mimetype": "text/x-python",
   "name": "python",
   "nbconvert_exporter": "python",
   "pygments_lexer": "ipython3",
   "version": "3.12.4"
  }
 },
 "nbformat": 4,
 "nbformat_minor": 5
}
